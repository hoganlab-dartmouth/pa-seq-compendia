{
 "cells": [
  {
   "cell_type": "markdown",
   "id": "interim-thousand",
   "metadata": {},
   "source": [
    "# Visualize new compendia <-- rename valdiate"
   ]
  },
  {
   "cell_type": "code",
   "execution_count": 1,
   "id": "random-analysis",
   "metadata": {},
   "outputs": [],
   "source": [
    "%load_ext autoreload\n",
    "%autoreload 2\n",
    "import os\n",
    "import pandas as pd\n",
    "import plotnine as pn\n",
    "from sklearn.preprocessing import MinMaxScaler\n",
    "import umap\n",
    "import matplotlib.pyplot as plt\n",
    "from core_acc_modules import paths, utils"
   ]
  },
  {
   "cell_type": "code",
   "execution_count": 2,
   "id": "stopped-grace",
   "metadata": {},
   "outputs": [],
   "source": [
    "# Expression data files\n",
    "pao1_expression_filename = paths.PAO1_COMPENDIUM_LABEL\n",
    "pa14_expression_filename = paths.PA14_COMPENDIUM_LABEL"
   ]
  },
  {
   "cell_type": "code",
   "execution_count": 3,
   "id": "gorgeous-majority",
   "metadata": {},
   "outputs": [],
   "source": [
    "pao1_expression = pd.read_csv(pao1_expression_filename, index_col=0, header=0)\n",
    "pa14_expression = pd.read_csv(pa14_expression_filename, index_col=0, header=0)"
   ]
  },
  {
   "cell_type": "markdown",
   "id": "patient-hamburg",
   "metadata": {},
   "source": [
    "## Get core and accessory annotations"
   ]
  },
  {
   "cell_type": "code",
   "execution_count": 25,
   "id": "straight-wrapping",
   "metadata": {
    "scrolled": true
   },
   "outputs": [
    {
     "name": "stdout",
     "output_type": "stream",
     "text": [
      "Number of PAO1 core genes: 5366\n",
      "Number of PA14 core genes: 5363\n",
      "Number of PAO1 core genes in my dataset: 5361\n",
      "Number of PA14 core genes in my dataset: 5361\n",
      "Number of PAO1-specific genes: 203\n",
      "Number of PA14-specific genes: 531\n"
     ]
    }
   ],
   "source": [
    "pao1_annot_filename = paths.GENE_PAO1_ANNOT\n",
    "pa14_annot_filename = paths.GENE_PA14_ANNOT\n",
    "\n",
    "core_acc_dict = utils.get_my_core_acc_genes(\n",
    "    pao1_annot_filename, pa14_annot_filename, pao1_expression, pa14_expression)"
   ]
  },
  {
   "cell_type": "markdown",
   "id": "significant-reward",
   "metadata": {},
   "source": [
    "## Format data for plotting"
   ]
  },
  {
   "cell_type": "code",
   "execution_count": null,
   "id": "palestinian-portrait",
   "metadata": {},
   "outputs": [],
   "source": [
    "# Create accessory df\n",
    "# accessory gene ids | median accessory expression | strain label\n",
    "\n",
    "# PAO1\n",
    "pao1_acc_expression = pao1_expression[pao1_acc]\n",
    "pao1_acc_expression[\"median acc expression\"] = pao1_acc_expression.median(axis=1)\n",
    "\n",
    "# PA14\n",
    "pa14_acc_expression = pa14_expression[pa14_acc]\n",
    "pa14_acc_expression[\"median acc expression\"] = pa14_acc_expression.median(axis=1)\n",
    "\n",
    "pao1_acc_expression.head()"
   ]
  },
  {
   "cell_type": "code",
   "execution_count": null,
   "id": "developed-turning",
   "metadata": {},
   "outputs": [],
   "source": [
    "# Merge PAO1 and PA14 accessory dataframes\n",
    "pao1_pa14_acc_expression_label = pao1_acc_expression.merge(\n",
    "    pa14_acc_expression,\n",
    "    left_index=True,\n",
    "    right_index=True,\n",
    "    suffixes=[\"_pao1\", \"_pa14\"],\n",
    ")\n",
    "\n",
    "pao1_pa14_acc_expression_label.head()"
   ]
  },
  {
   "cell_type": "markdown",
   "id": "amber-literature",
   "metadata": {},
   "source": [
    "## ACCESSORY"
   ]
  },
  {
   "cell_type": "code",
   "execution_count": null,
   "id": "employed-incidence",
   "metadata": {},
   "outputs": [],
   "source": [
    "# Plot\n",
    "fig3 = pn.ggplot(\n",
    "    pao1_pa14_acc_expression_label,\n",
    "    pn.aes(x=\"median acc expression_pao1\", y=\"median acc expression_pa14\"),\n",
    ")\n",
    "fig3 += pn.geom_point(pn.aes(color=\"Strain type_pao1\"), alpha=0.4)\n",
    "fig3 += pn.labs(\n",
    "    x=\"median expression of PAO1-only genes (TPM)\",\n",
    "    y=\"median expression of PA14-only genes (TPM)\",\n",
    "    title=\"TPM of accessory genes\",\n",
    ")\n",
    "fig3 += pn.theme_bw()\n",
    "fig3 += pn.theme(\n",
    "    legend_title_align=\"center\",\n",
    "    plot_background=pn.element_rect(fill=\"white\"),\n",
    "    legend_key=pn.element_rect(fill=\"white\", colour=\"white\"),\n",
    "    legend_title=pn.element_text(family=\"sans-serif\", size=15),\n",
    "    legend_text=pn.element_text(family=\"sans-serif\", size=12),\n",
    "    plot_title=pn.element_text(family=\"sans-serif\", size=15),\n",
    "    axis_text=pn.element_text(family=\"sans-serif\", size=10),\n",
    "    axis_title=pn.element_text(family=\"sans-serif\", size=12),\n",
    ")\n",
    "fig3 += pn.guides(colour=pn.guide_legend(override_aes={\"alpha\": 1}))\n",
    "\n",
    "print(fig3)"
   ]
  },
  {
   "cell_type": "markdown",
   "id": "dated-sponsorship",
   "metadata": {},
   "source": [
    "## CORE"
   ]
  },
  {
   "cell_type": "code",
   "execution_count": null,
   "id": "simplified-gather",
   "metadata": {},
   "outputs": [],
   "source": [
    "# Drop label columns\n",
    "pao1_expression_numeric = pao1_expression.drop([\"Strain type\"], axis=1)\n",
    "pa14_expression_numeric = pa14_expression.drop([\"Strain type\"], axis=1)"
   ]
  },
  {
   "cell_type": "code",
   "execution_count": null,
   "id": "mounted-fairy",
   "metadata": {},
   "outputs": [],
   "source": [
    "pao1_expression_numeric.head()"
   ]
  },
  {
   "cell_type": "code",
   "execution_count": null,
   "id": "simplified-recovery",
   "metadata": {},
   "outputs": [],
   "source": [
    "# 0-1 normalize per gene\n",
    "scaler = MinMaxScaler()\n",
    "\n",
    "# Fitting\n",
    "normalized_pao1_expression_numeric = scaler.fit_transform(pao1_expression_numeric)\n",
    "normalized_pao1_expression_numeric_df = pd.DataFrame(\n",
    "    normalized_pao1_expression_numeric,\n",
    "    columns=pao1_expression_numeric.columns,\n",
    "    index=pao1_expression_numeric.index,\n",
    ")\n",
    "\n",
    "normalized_pa14_expression_numeric = scaler.fit_transform(pa14_expression_numeric)\n",
    "normalized_pa14_expression_numeric_df = pd.DataFrame(\n",
    "    normalized_pa14_expression_numeric,\n",
    "    columns=pa14_expression_numeric.columns,\n",
    "    index=pa14_expression_numeric.index,\n",
    ")"
   ]
  },
  {
   "cell_type": "code",
   "execution_count": null,
   "id": "cooked-wound",
   "metadata": {},
   "outputs": [],
   "source": [
    "# model_pao1 = pca.fit(normalized_pao1_expression_numeric_df)\n",
    "model_pao1 = umap.UMAP(random_state=123).fit(normalized_pao1_expression_numeric_df)\n",
    "\n",
    "normalized_pao1_encoded = model_pao1.transform(normalized_pao1_expression_numeric_df)\n",
    "\n",
    "normalized_pao1_encoded_df = pd.DataFrame(\n",
    "    data=normalized_pao1_encoded,\n",
    "    index=normalized_pao1_expression_numeric_df.index,\n",
    "    columns=[\"1\", \"2\"],\n",
    ")\n",
    "\n",
    "# Add back label\n",
    "normalized_pao1_encoded_df[\"Strain_type\"] = pao1_expression[\"Strain type\"]"
   ]
  },
  {
   "cell_type": "code",
   "execution_count": null,
   "id": "acknowledged-glossary",
   "metadata": {},
   "outputs": [],
   "source": [
    "# model_pa14 = pca.fit(normalized_pa14_expression_numeric_df)\n",
    "model_pa14 = umap.UMAP(random_state=123).fit(normalized_pa14_expression_numeric_df)\n",
    "\n",
    "normalized_pa14_encoded = model_pa14.transform(normalized_pa14_expression_numeric_df)\n",
    "\n",
    "normalized_pa14_encoded_df = pd.DataFrame(\n",
    "    data=normalized_pa14_encoded,\n",
    "    index=normalized_pa14_expression_numeric_df.index,\n",
    "    columns=[\"1\", \"2\"],\n",
    ")\n",
    "\n",
    "# Add back label\n",
    "normalized_pa14_encoded_df[\"Strain_type\"] = pa14_expression[\"Strain type\"]"
   ]
  },
  {
   "cell_type": "code",
   "execution_count": null,
   "id": "powerful-officer",
   "metadata": {},
   "outputs": [],
   "source": [
    "# Plot PAO1\n",
    "fig = pn.ggplot(normalized_pao1_encoded_df, pn.aes(x=\"1\", y=\"2\"))\n",
    "fig += pn.geom_point(pn.aes(color=\"Strain_type\"), alpha=0.3)\n",
    "fig += pn.labs(\n",
    "    x=\"UMAP 1\", y=\"UMAP 2\", title=\"Normalized RNA-seq expression using PAO1 reference\"\n",
    ")\n",
    "fig += pn.theme_bw()\n",
    "fig += pn.theme(\n",
    "    legend_title_align=\"center\",\n",
    "    plot_background=pn.element_rect(fill=\"white\"),\n",
    "    legend_key=pn.element_rect(fill=\"white\", colour=\"white\"),\n",
    "    legend_title=pn.element_text(family=\"sans-serif\", size=15),\n",
    "    legend_text=pn.element_text(family=\"sans-serif\", size=12),\n",
    "    plot_title=pn.element_text(family=\"sans-serif\", size=15),\n",
    "    axis_text=pn.element_text(family=\"sans-serif\", size=12),\n",
    "    axis_title=pn.element_text(family=\"sans-serif\", size=15),\n",
    ")\n",
    "fig += pn.guides(colour=pn.guide_legend(override_aes={\"alpha\": 1}))\n",
    "\n",
    "print(fig)"
   ]
  },
  {
   "cell_type": "code",
   "execution_count": null,
   "id": "tracked-discipline",
   "metadata": {},
   "outputs": [],
   "source": [
    "# Plot PA14\n",
    "fig = pn.ggplot(normalized_pa14_encoded_df, pn.aes(x=\"1\", y=\"2\"))\n",
    "fig += pn.geom_point(pn.aes(color=\"Strain_type\"), alpha=0.3)\n",
    "fig += pn.labs(\n",
    "    x=\"UMAP 1\", y=\"UMAP 2\", title=\"Normalized RNA-seq expression using PA14 reference\"\n",
    ")\n",
    "fig += pn.theme_bw()\n",
    "fig += pn.theme(\n",
    "    legend_title_align=\"center\",\n",
    "    plot_background=pn.element_rect(fill=\"white\"),\n",
    "    legend_key=pn.element_rect(fill=\"white\", colour=\"white\"),\n",
    "    legend_title=pn.element_text(family=\"sans-serif\", size=15),\n",
    "    legend_text=pn.element_text(family=\"sans-serif\", size=12),\n",
    "    plot_title=pn.element_text(family=\"sans-serif\", size=15),\n",
    "    axis_text=pn.element_text(family=\"sans-serif\", size=12),\n",
    "    axis_title=pn.element_text(family=\"sans-serif\", size=15),\n",
    ")\n",
    "fig += pn.guides(colour=pn.guide_legend(override_aes={\"alpha\": 1}))\n",
    "\n",
    "print(fig)"
   ]
  },
  {
   "cell_type": "code",
   "execution_count": null,
   "id": "biblical-fraction",
   "metadata": {},
   "outputs": [],
   "source": [
    "# Create core dataframe with columns:\n",
    "# core gene ids | median core expression | strain label\n",
    "\n",
    "# PAO1\n",
    "pao1_core_expression = pao1_expression[my_core_pao1_genes]\n",
    "pao1_core_expression[\"median core expression\"] = pao1_core_expression.median(axis=1)\n",
    "\n",
    "# PA14\n",
    "pa14_core_expression = pa14_expression[my_core_pa14_genes]\n",
    "pa14_core_expression[\"median core expression\"] = pa14_core_expression.median(axis=1)\n",
    "\n",
    "pao1_core_expression.head()"
   ]
  },
  {
   "cell_type": "code",
   "execution_count": null,
   "id": "analyzed-polls",
   "metadata": {},
   "outputs": [],
   "source": [
    "# Merge PAO1 and PA14 core dataframes\n",
    "pao1_pa14_core_expression_label = pao1_core_expression.merge(\n",
    "    pa14_core_expression,\n",
    "    left_index=True,\n",
    "    right_index=True,\n",
    "    suffixes=[\"_pao1\", \"_pa14\"],\n",
    ")\n",
    "\n",
    "pao1_pa14_core_expression_label.head()"
   ]
  },
  {
   "cell_type": "code",
   "execution_count": null,
   "id": "united-harmony",
   "metadata": {
    "scrolled": true
   },
   "outputs": [],
   "source": [
    "# Plot\n",
    "fig = pn.ggplot(\n",
    "    pao1_pa14_core_expression_label,\n",
    "    pn.aes(x=\"median core expression_pao1\", y=\"median core expression_pa14\"),\n",
    ")\n",
    "fig += pn.geom_point(pn.aes(color=\"Strain type\"), alpha=0.2)\n",
    "fig += pn.labs(\n",
    "    x=\"median expression of core genes (TPM)\",\n",
    "    y=\"median expression of core genes (TPM)\",\n",
    "    title=\"TPM of core genes\",\n",
    ")\n",
    "fig += pn.theme_bw()\n",
    "fig += pn.theme(\n",
    "    legend_title_align=\"center\",\n",
    "    plot_background=pn.element_rect(fill=\"white\"),\n",
    "    legend_key=pn.element_rect(fill=\"white\", colour=\"white\"),\n",
    "    legend_title=pn.element_text(family=\"sans-serif\", size=15),\n",
    "    legend_text=pn.element_text(family=\"sans-serif\", size=12),\n",
    "    plot_title=pn.element_text(family=\"sans-serif\", size=15),\n",
    "    axis_text=pn.element_text(family=\"sans-serif\", size=10),\n",
    "    axis_title=pn.element_text(family=\"sans-serif\", size=12),\n",
    ")\n",
    "fig += pn.guides(colour=pn.guide_legend(override_aes={\"alpha\": 1}))\n",
    "\n",
    "print(fig)"
   ]
  },
  {
   "cell_type": "code",
   "execution_count": null,
   "id": "suburban-research",
   "metadata": {},
   "outputs": [],
   "source": []
  },
  {
   "cell_type": "code",
   "execution_count": null,
   "id": "proved-consideration",
   "metadata": {},
   "outputs": [],
   "source": []
  },
  {
   "cell_type": "code",
   "execution_count": null,
   "id": "utility-nightlife",
   "metadata": {},
   "outputs": [],
   "source": []
  },
  {
   "cell_type": "code",
   "execution_count": null,
   "id": "dying-hawaii",
   "metadata": {},
   "outputs": [],
   "source": []
  }
 ],
 "metadata": {
  "jupytext": {
   "formats": "ipynb,py"
  },
  "kernelspec": {
   "display_name": "Python [conda env:core_acc_env] *",
   "language": "python",
   "name": "conda-env-core_acc_env-py"
  },
  "language_info": {
   "codemirror_mode": {
    "name": "ipython",
    "version": 3
   },
   "file_extension": ".py",
   "mimetype": "text/x-python",
   "name": "python",
   "nbconvert_exporter": "python",
   "pygments_lexer": "ipython3",
   "version": "3.7.9"
  }
 },
 "nbformat": 4,
 "nbformat_minor": 5
}
